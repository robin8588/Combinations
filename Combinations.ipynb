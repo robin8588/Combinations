{
    "cells": [
        {
            "cell_type": "code",
            "execution_count": 1,
            "source": [
                "import itertools\r\n",
                "import pandas as pd\r\n",
                "\r\n",
                "lists = itertools.combinations(['01','02','03','04','05','06','07','08','09','10','11','12','13','14','15','16','17','18','19','20','21','22','23','24','25','26','27','28','29','30'],7)\r\n",
                "row_lists =[]\r\n",
                "for row in lists:\r\n",
                "    dit={}\r\n",
                "    for i in row:\r\n",
                "        dit[i] = i\r\n",
                "    row_lists.append(dit)\r\n",
                "        \r\n",
                "pd.DataFrame(row_lists,columns=['01','02','03','04','05','06','07','08','09','10','11','12','13','14','15','16','17','18','19','20','21','22','23','24','25','26','27','28','29','30'])"
            ],
            "outputs": [],
            "metadata": {}
        }
    ],
    "metadata": {
        "orig_nbformat": 4,
        "language_info": {
            "name": "python",
            "version": "3.9.6",
            "mimetype": "text/x-python",
            "codemirror_mode": {
                "name": "ipython",
                "version": 3
            },
            "pygments_lexer": "ipython3",
            "nbconvert_exporter": "python",
            "file_extension": ".py"
        },
        "kernelspec": {
            "name": "python3",
            "display_name": "Python 3.9.6 64-bit"
        },
        "interpreter": {
            "hash": "f84c5b2766fabba7bf4f79d1bde9a4a7e3ab3633a7a67f01c2ea531bb1b19fd8"
        }
    },
    "nbformat": 4,
    "nbformat_minor": 2
}